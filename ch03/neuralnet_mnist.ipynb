{
 "cells": [
  {
   "cell_type": "code",
   "id": "initial_id",
   "metadata": {
    "collapsed": true,
    "ExecuteTime": {
     "end_time": "2025-05-10T09:55:33.720582Z",
     "start_time": "2025-05-10T09:55:33.708149Z"
    }
   },
   "source": [
    "import pickle\n",
    "import sys, os\n",
    "import numpy as np\n",
    "from dataset.mnist import load_mnist"
   ],
   "outputs": [],
   "execution_count": 71
  },
  {
   "metadata": {
    "ExecuteTime": {
     "end_time": "2025-05-10T09:55:33.745970Z",
     "start_time": "2025-05-10T09:55:33.739929Z"
    }
   },
   "cell_type": "code",
   "source": [
    "def sigmoid(x):\n",
    "    return 1 / (1+np.exp(-x))\n",
    "\n",
    "def softmax(x):\n",
    "    c = np.max(x)\n",
    "    exp_a = np.exp(x-c)\n",
    "    sum_exp_a = np.sum(exp_a)\n",
    "    return exp_a/sum_exp_a"
   ],
   "id": "be0fa80ee98dc2d0",
   "outputs": [],
   "execution_count": 72
  },
  {
   "metadata": {
    "ExecuteTime": {
     "end_time": "2025-05-10T09:55:33.768549Z",
     "start_time": "2025-05-10T09:55:33.762686Z"
    }
   },
   "cell_type": "code",
   "source": [
    "def get_data():\n",
    "    (x_train, y_train), (x_test, y_test) = load_mnist(flatten=True, normalize=True, one_hot_label=False)\n",
    "    print(x_test.shape)\n",
    "    print(y_test.shape)\n",
    "    return x_test, y_test"
   ],
   "id": "87b5ffa771a223",
   "outputs": [],
   "execution_count": 73
  },
  {
   "metadata": {
    "ExecuteTime": {
     "end_time": "2025-05-10T09:55:33.791568Z",
     "start_time": "2025-05-10T09:55:33.784476Z"
    }
   },
   "cell_type": "code",
   "source": [
    "def init_network():\n",
    "    with open(os.getcwd()+\"/sample_weight.pkl\", \"rb\") as f:\n",
    "        network = pickle.load(f)\n",
    "\n",
    "    return network"
   ],
   "id": "fcbe0b2b6ebf4cc3",
   "outputs": [],
   "execution_count": 74
  },
  {
   "metadata": {
    "ExecuteTime": {
     "end_time": "2025-05-10T09:55:33.812946Z",
     "start_time": "2025-05-10T09:55:33.806022Z"
    }
   },
   "cell_type": "code",
   "source": [
    "def predict(network, x):\n",
    "    w1, w2, w3 = network['W1'], network['W2'], network['W3']\n",
    "    b1, b2, b3 = network['b1'], network['b2'], network['b3']\n",
    "\n",
    "    a1 = np.dot(x, w1) + b1\n",
    "    z1 = sigmoid(a1)\n",
    "    a2 = np.dot(z1, w2) + b2\n",
    "    z2 = sigmoid(a2)\n",
    "    a3 = np.dot(z2, w3) + b3\n",
    "    y = softmax(a3)\n",
    "\n",
    "    return y"
   ],
   "id": "ef7218522b80649f",
   "outputs": [],
   "execution_count": 75
  },
  {
   "metadata": {
    "ExecuteTime": {
     "end_time": "2025-05-10T09:55:34.149658Z",
     "start_time": "2025-05-10T09:55:33.827427Z"
    }
   },
   "cell_type": "code",
   "source": [
    "x, t = get_data()\n",
    "network = init_network()\n",
    "accuracy_cnt = 0\n",
    "for i in range(len(x)):\n",
    "    y = predict(network, x[i])\n",
    "    p = np.argmax(y)\n",
    "    if p == t[i]:\n",
    "        accuracy_cnt += 1\n",
    "\n",
    "print(\"Accuracy:\" + str(accuracy_cnt/len(x)))"
   ],
   "id": "12bdd7202261615c",
   "outputs": [
    {
     "name": "stdout",
     "output_type": "stream",
     "text": [
      "(10000, 784)\n",
      "(10000,)\n",
      "Accuracy:0.9352\n"
     ]
    }
   ],
   "execution_count": 76
  }
 ],
 "metadata": {
  "kernelspec": {
   "display_name": "Python 3",
   "language": "python",
   "name": "python3"
  },
  "language_info": {
   "codemirror_mode": {
    "name": "ipython",
    "version": 2
   },
   "file_extension": ".py",
   "mimetype": "text/x-python",
   "name": "python",
   "nbconvert_exporter": "python",
   "pygments_lexer": "ipython2",
   "version": "2.7.6"
  }
 },
 "nbformat": 4,
 "nbformat_minor": 5
}
