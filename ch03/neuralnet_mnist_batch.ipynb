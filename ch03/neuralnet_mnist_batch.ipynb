{
 "cells": [
  {
   "cell_type": "code",
   "id": "initial_id",
   "metadata": {
    "collapsed": true,
    "ExecuteTime": {
     "end_time": "2025-05-11T08:46:15.206473Z",
     "start_time": "2025-05-11T08:46:15.194331Z"
    }
   },
   "source": [
    "import pickle\n",
    "import sys, os\n",
    "import numpy as np\n",
    "from dataset.mnist import load_mnist"
   ],
   "outputs": [],
   "execution_count": 7
  },
  {
   "metadata": {
    "ExecuteTime": {
     "end_time": "2025-05-11T08:46:15.239462Z",
     "start_time": "2025-05-11T08:46:15.232348Z"
    }
   },
   "cell_type": "code",
   "source": [
    "def sigmoid(x):\n",
    "    return 1 / (1+np.exp(-x))\n",
    "\n",
    "def softmax(x):\n",
    "    c = np.max(x)\n",
    "    exp_a = np.exp(x-c)\n",
    "    sum_exp_a = np.sum(exp_a)\n",
    "    return exp_a/sum_exp_a"
   ],
   "id": "be0fa80ee98dc2d0",
   "outputs": [],
   "execution_count": 8
  },
  {
   "metadata": {
    "ExecuteTime": {
     "end_time": "2025-05-11T08:46:15.281748Z",
     "start_time": "2025-05-11T08:46:15.275653Z"
    }
   },
   "cell_type": "code",
   "source": [
    "def get_data():\n",
    "    (x_train, y_train), (x_test, y_test) = load_mnist(flatten=True, normalize=True, one_hot_label=False)\n",
    "    return x_test, y_test"
   ],
   "id": "87b5ffa771a223",
   "outputs": [],
   "execution_count": 9
  },
  {
   "metadata": {
    "ExecuteTime": {
     "end_time": "2025-05-11T08:46:15.330744Z",
     "start_time": "2025-05-11T08:46:15.322511Z"
    }
   },
   "cell_type": "code",
   "source": [
    "def init_network():\n",
    "    with open(os.getcwd()+\"/sample_weight.pkl\", \"rb\") as f:\n",
    "        network = pickle.load(f)\n",
    "\n",
    "    return network"
   ],
   "id": "fcbe0b2b6ebf4cc3",
   "outputs": [],
   "execution_count": 10
  },
  {
   "metadata": {
    "ExecuteTime": {
     "end_time": "2025-05-11T08:46:15.373840Z",
     "start_time": "2025-05-11T08:46:15.365648Z"
    }
   },
   "cell_type": "code",
   "source": [
    "def predict(network, x):\n",
    "    w1, w2, w3 = network['W1'], network['W2'], network['W3']\n",
    "    b1, b2, b3 = network['b1'], network['b2'], network['b3']\n",
    "\n",
    "    a1 = np.dot(x, w1) + b1\n",
    "    z1 = sigmoid(a1)\n",
    "    a2 = np.dot(z1, w2) + b2\n",
    "    z2 = sigmoid(a2)\n",
    "    a3 = np.dot(z2, w3) + b3\n",
    "    y = softmax(a3)\n",
    "\n",
    "    return y"
   ],
   "id": "ef7218522b80649f",
   "outputs": [],
   "execution_count": 11
  },
  {
   "metadata": {
    "ExecuteTime": {
     "end_time": "2025-05-11T08:46:15.651882Z",
     "start_time": "2025-05-11T08:46:15.450883Z"
    }
   },
   "cell_type": "code",
   "source": [
    "x, t = get_data()\n",
    "network = init_network()\n",
    "\n",
    "batch_size = 100\n",
    "\n",
    "accuracy_cnt = 0\n",
    "for i in range(0, len(x), batch_size):\n",
    "    x_batch = x[i:i+batch_size]\n",
    "    y_batch = predict(network, x_batch)\n",
    "    p = np.argmax(y_batch, axis=1)\n",
    "    accuracy_cnt += np.sum(p == t[i:i+batch_size])\n",
    "\n",
    "print(\"Accuracy:\" + str(accuracy_cnt/len(x)))"
   ],
   "id": "12bdd7202261615c",
   "outputs": [
    {
     "name": "stdout",
     "output_type": "stream",
     "text": [
      "Accuracy:0.9352\n"
     ]
    }
   ],
   "execution_count": 12
  }
 ],
 "metadata": {
  "kernelspec": {
   "display_name": "Python 3",
   "language": "python",
   "name": "python3"
  },
  "language_info": {
   "codemirror_mode": {
    "name": "ipython",
    "version": 2
   },
   "file_extension": ".py",
   "mimetype": "text/x-python",
   "name": "python",
   "nbconvert_exporter": "python",
   "pygments_lexer": "ipython2",
   "version": "2.7.6"
  }
 },
 "nbformat": 4,
 "nbformat_minor": 5
}
