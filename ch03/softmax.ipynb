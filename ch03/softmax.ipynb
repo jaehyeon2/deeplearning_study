{
 "cells": [
  {
   "metadata": {
    "ExecuteTime": {
     "end_time": "2025-05-09T09:18:39.879223Z",
     "start_time": "2025-05-09T09:18:39.873685Z"
    }
   },
   "cell_type": "code",
   "source": "import numpy as np",
   "id": "b73e61e6113a62e",
   "outputs": [],
   "execution_count": 3
  },
  {
   "cell_type": "code",
   "id": "initial_id",
   "metadata": {
    "collapsed": true,
    "ExecuteTime": {
     "end_time": "2025-05-09T09:18:39.906997Z",
     "start_time": "2025-05-09T09:18:39.900033Z"
    }
   },
   "source": [
    "def softmax(a):\n",
    "    c = np.max(a)\n",
    "    exp_a = np.exp(a-c)\n",
    "    sum_exp_a = np.sum(exp_a)\n",
    "\n",
    "    y = exp_a/sum_exp_a\n",
    "    return y"
   ],
   "outputs": [],
   "execution_count": 4
  },
  {
   "metadata": {
    "ExecuteTime": {
     "end_time": "2025-05-09T09:18:39.934996Z",
     "start_time": "2025-05-09T09:18:39.924073Z"
    }
   },
   "cell_type": "code",
   "source": [
    "a = np.array([0.3, 2.9, 4.0])\n",
    "print(softmax(a))"
   ],
   "id": "7af23ce0d748c926",
   "outputs": [
    {
     "name": "stdout",
     "output_type": "stream",
     "text": [
      "[0.01821127 0.24519181 0.73659691]\n"
     ]
    }
   ],
   "execution_count": 5
  }
 ],
 "metadata": {
  "kernelspec": {
   "display_name": "Python 3",
   "language": "python",
   "name": "python3"
  },
  "language_info": {
   "codemirror_mode": {
    "name": "ipython",
    "version": 2
   },
   "file_extension": ".py",
   "mimetype": "text/x-python",
   "name": "python",
   "nbconvert_exporter": "python",
   "pygments_lexer": "ipython2",
   "version": "2.7.6"
  }
 },
 "nbformat": 4,
 "nbformat_minor": 5
}
