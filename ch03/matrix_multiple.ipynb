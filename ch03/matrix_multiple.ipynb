{
 "cells": [
  {
   "cell_type": "code",
   "id": "initial_id",
   "metadata": {
    "collapsed": true,
    "ExecuteTime": {
     "end_time": "2025-05-08T12:49:16.449863Z",
     "start_time": "2025-05-08T12:49:16.442967Z"
    }
   },
   "source": "import numpy as np",
   "outputs": [],
   "execution_count": 23
  },
  {
   "metadata": {
    "ExecuteTime": {
     "end_time": "2025-05-08T12:49:16.495393Z",
     "start_time": "2025-05-08T12:49:16.486392Z"
    }
   },
   "cell_type": "code",
   "source": [
    "x = np.array([1, 2])\n",
    "x.shape"
   ],
   "id": "a4051492362bd5fa",
   "outputs": [
    {
     "data": {
      "text/plain": [
       "(2,)"
      ]
     },
     "execution_count": 24,
     "metadata": {},
     "output_type": "execute_result"
    }
   ],
   "execution_count": 24
  },
  {
   "metadata": {
    "ExecuteTime": {
     "end_time": "2025-05-08T12:49:16.520756Z",
     "start_time": "2025-05-08T12:49:16.513427Z"
    }
   },
   "cell_type": "code",
   "source": [
    "w = np.array([[1, 3, 5], [2, 4, 6]])\n",
    "w.shape"
   ],
   "id": "db917d25e8922248",
   "outputs": [
    {
     "data": {
      "text/plain": [
       "(2, 3)"
      ]
     },
     "execution_count": 25,
     "metadata": {},
     "output_type": "execute_result"
    }
   ],
   "execution_count": 25
  },
  {
   "metadata": {
    "ExecuteTime": {
     "end_time": "2025-05-08T12:49:16.583813Z",
     "start_time": "2025-05-08T12:49:16.574782Z"
    }
   },
   "cell_type": "code",
   "source": "np.dot(x, w)",
   "id": "374a376bce063bf8",
   "outputs": [
    {
     "data": {
      "text/plain": [
       "array([ 4, 10, 16])"
      ]
     },
     "execution_count": 26,
     "metadata": {},
     "output_type": "execute_result"
    }
   ],
   "execution_count": 26
  }
 ],
 "metadata": {
  "kernelspec": {
   "display_name": "Python 3",
   "language": "python",
   "name": "python3"
  },
  "language_info": {
   "codemirror_mode": {
    "name": "ipython",
    "version": 2
   },
   "file_extension": ".py",
   "mimetype": "text/x-python",
   "name": "python",
   "nbconvert_exporter": "python",
   "pygments_lexer": "ipython2",
   "version": "2.7.6"
  }
 },
 "nbformat": 4,
 "nbformat_minor": 5
}
