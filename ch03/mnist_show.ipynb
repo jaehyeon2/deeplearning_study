{
 "cells": [
  {
   "cell_type": "code",
   "id": "initial_id",
   "metadata": {
    "collapsed": true,
    "ExecuteTime": {
     "end_time": "2025-05-11T10:11:27.552869Z",
     "start_time": "2025-05-11T10:11:27.346318Z"
    }
   },
   "source": [
    "import sys, os\n",
    "sys.path.append(os.path.join(os.getcwd(), '..'))\n",
    "import numpy as np\n",
    "from dataset.mnist import load_mnist\n",
    "from PIL import Image"
   ],
   "outputs": [],
   "execution_count": 1
  },
  {
   "metadata": {
    "ExecuteTime": {
     "end_time": "2025-05-11T10:11:27.569959Z",
     "start_time": "2025-05-11T10:11:27.563497Z"
    }
   },
   "cell_type": "code",
   "source": [
    "def img_show(img):\n",
    "    pil_img = Image.fromarray(np.uint8(img))\n",
    "    pil_img.show()"
   ],
   "id": "e6726f10c1ef4e54",
   "outputs": [],
   "execution_count": 2
  },
  {
   "metadata": {
    "ExecuteTime": {
     "end_time": "2025-05-11T10:11:27.611973Z",
     "start_time": "2025-05-11T10:11:27.580658Z"
    }
   },
   "cell_type": "code",
   "source": "(x_train, t_train), (x_test, t_test) = load_mnist(flatten=True, normalize=False)",
   "id": "50ecab9bc85a628c",
   "outputs": [],
   "execution_count": 3
  },
  {
   "metadata": {
    "ExecuteTime": {
     "end_time": "2025-05-11T10:11:27.624666Z",
     "start_time": "2025-05-11T10:11:27.614018Z"
    }
   },
   "cell_type": "code",
   "source": [
    "print(x_train.shape)\n",
    "print(x_test.shape)\n",
    "print(t_train.shape)\n",
    "print(t_test.shape)"
   ],
   "id": "8263e9fef135c274",
   "outputs": [
    {
     "name": "stdout",
     "output_type": "stream",
     "text": [
      "(60000, 784)\n",
      "(10000, 784)\n",
      "(60000,)\n",
      "(10000,)\n"
     ]
    }
   ],
   "execution_count": 4
  },
  {
   "metadata": {
    "ExecuteTime": {
     "end_time": "2025-05-11T10:11:27.659888Z",
     "start_time": "2025-05-11T10:11:27.653466Z"
    }
   },
   "cell_type": "code",
   "source": [
    "img = x_train[0]\n",
    "label = t_train[0]\n",
    "print(label)"
   ],
   "id": "fcdc9bf7c6dab252",
   "outputs": [
    {
     "name": "stdout",
     "output_type": "stream",
     "text": [
      "5\n"
     ]
    }
   ],
   "execution_count": 5
  },
  {
   "metadata": {
    "ExecuteTime": {
     "end_time": "2025-05-11T10:11:27.695031Z",
     "start_time": "2025-05-11T10:11:27.679901Z"
    }
   },
   "cell_type": "code",
   "source": [
    "print(img.shape)\n",
    "img = img.reshape(28,28)\n",
    "print(img.shape)"
   ],
   "id": "fe98d2c1fb793feb",
   "outputs": [
    {
     "name": "stdout",
     "output_type": "stream",
     "text": [
      "(784,)\n",
      "(28, 28)\n"
     ]
    }
   ],
   "execution_count": 6
  },
  {
   "metadata": {
    "ExecuteTime": {
     "end_time": "2025-05-11T10:11:27.845054Z",
     "start_time": "2025-05-11T10:11:27.698162Z"
    }
   },
   "cell_type": "code",
   "source": "img_show(img)",
   "id": "cffa66d52f3730d5",
   "outputs": [],
   "execution_count": 7
  }
 ],
 "metadata": {
  "kernelspec": {
   "display_name": "Python 3",
   "language": "python",
   "name": "python3"
  },
  "language_info": {
   "codemirror_mode": {
    "name": "ipython",
    "version": 2
   },
   "file_extension": ".py",
   "mimetype": "text/x-python",
   "name": "python",
   "nbconvert_exporter": "python",
   "pygments_lexer": "ipython2",
   "version": "2.7.6"
  }
 },
 "nbformat": 4,
 "nbformat_minor": 5
}
