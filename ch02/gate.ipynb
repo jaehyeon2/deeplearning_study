{
 "cells": [
  {
   "metadata": {
    "ExecuteTime": {
     "end_time": "2025-05-07T13:16:00.376085Z",
     "start_time": "2025-05-07T13:16:00.367861Z"
    }
   },
   "cell_type": "code",
   "source": [
    "import numpy as np\n",
    "\n",
    "def logic_and(x1, x2):\n",
    "    x = np.array([x1, x2])\n",
    "    w = np.array([0.5, 0.5])\n",
    "    b = -0.7\n",
    "\n",
    "    if np.sum(w*x)+b <= 0:\n",
    "        return 0\n",
    "    else:\n",
    "        return 1"
   ],
   "id": "3ba67acec6b971db",
   "outputs": [],
   "execution_count": 65
  },
  {
   "metadata": {
    "ExecuteTime": {
     "end_time": "2025-05-07T13:16:00.398121Z",
     "start_time": "2025-05-07T13:16:00.389482Z"
    }
   },
   "cell_type": "code",
   "source": "logic_and(0, 0)",
   "id": "bdb065a792862ac0",
   "outputs": [
    {
     "data": {
      "text/plain": [
       "0"
      ]
     },
     "execution_count": 66,
     "metadata": {},
     "output_type": "execute_result"
    }
   ],
   "execution_count": 66
  },
  {
   "metadata": {
    "ExecuteTime": {
     "end_time": "2025-05-07T13:16:00.428779Z",
     "start_time": "2025-05-07T13:16:00.420696Z"
    }
   },
   "cell_type": "code",
   "source": "logic_and(1, 0)",
   "id": "eb75dbc5fd48e636",
   "outputs": [
    {
     "data": {
      "text/plain": [
       "0"
      ]
     },
     "execution_count": 67,
     "metadata": {},
     "output_type": "execute_result"
    }
   ],
   "execution_count": 67
  },
  {
   "metadata": {
    "ExecuteTime": {
     "end_time": "2025-05-07T13:16:00.452182Z",
     "start_time": "2025-05-07T13:16:00.443949Z"
    }
   },
   "cell_type": "code",
   "source": "logic_and(0, 1)",
   "id": "e342b9f1fd1358f4",
   "outputs": [
    {
     "data": {
      "text/plain": [
       "0"
      ]
     },
     "execution_count": 68,
     "metadata": {},
     "output_type": "execute_result"
    }
   ],
   "execution_count": 68
  },
  {
   "metadata": {
    "ExecuteTime": {
     "end_time": "2025-05-07T13:16:00.474752Z",
     "start_time": "2025-05-07T13:16:00.468796Z"
    }
   },
   "cell_type": "code",
   "source": "logic_and(1, 1)",
   "id": "5858815bd614f4eb",
   "outputs": [
    {
     "data": {
      "text/plain": [
       "1"
      ]
     },
     "execution_count": 69,
     "metadata": {},
     "output_type": "execute_result"
    }
   ],
   "execution_count": 69
  },
  {
   "metadata": {
    "ExecuteTime": {
     "end_time": "2025-05-07T13:16:00.496973Z",
     "start_time": "2025-05-07T13:16:00.488377Z"
    }
   },
   "cell_type": "code",
   "source": [
    "def logic_nand(x1, x2):\n",
    "    x = np.array([x1, x2])\n",
    "    w = np.array([-0.5, -0.5])\n",
    "    b = 0.7\n",
    "\n",
    "    if np.sum(w*x)+b <= 0:\n",
    "        return 0\n",
    "    else:\n",
    "        return 1"
   ],
   "id": "b9052bb47e8e01a6",
   "outputs": [],
   "execution_count": 70
  },
  {
   "metadata": {
    "ExecuteTime": {
     "end_time": "2025-05-07T13:16:00.521768Z",
     "start_time": "2025-05-07T13:16:00.513381Z"
    }
   },
   "cell_type": "code",
   "source": "logic_nand(0, 0)",
   "id": "2347d3bf00ee1fa8",
   "outputs": [
    {
     "data": {
      "text/plain": [
       "1"
      ]
     },
     "execution_count": 71,
     "metadata": {},
     "output_type": "execute_result"
    }
   ],
   "execution_count": 71
  },
  {
   "metadata": {
    "ExecuteTime": {
     "end_time": "2025-05-07T13:16:00.548809Z",
     "start_time": "2025-05-07T13:16:00.540467Z"
    }
   },
   "cell_type": "code",
   "source": "logic_nand(1, 0)",
   "id": "23054fa69c1a8aad",
   "outputs": [
    {
     "data": {
      "text/plain": [
       "1"
      ]
     },
     "execution_count": 72,
     "metadata": {},
     "output_type": "execute_result"
    }
   ],
   "execution_count": 72
  },
  {
   "metadata": {
    "ExecuteTime": {
     "end_time": "2025-05-07T13:16:00.577Z",
     "start_time": "2025-05-07T13:16:00.569186Z"
    }
   },
   "cell_type": "code",
   "source": "logic_nand(0, 1)",
   "id": "80c428cabb5d7a02",
   "outputs": [
    {
     "data": {
      "text/plain": [
       "1"
      ]
     },
     "execution_count": 73,
     "metadata": {},
     "output_type": "execute_result"
    }
   ],
   "execution_count": 73
  },
  {
   "metadata": {
    "ExecuteTime": {
     "end_time": "2025-05-07T13:16:00.597950Z",
     "start_time": "2025-05-07T13:16:00.591120Z"
    }
   },
   "cell_type": "code",
   "source": "logic_nand(1, 1)",
   "id": "6d5fd30fb1119b8d",
   "outputs": [
    {
     "data": {
      "text/plain": [
       "0"
      ]
     },
     "execution_count": 74,
     "metadata": {},
     "output_type": "execute_result"
    }
   ],
   "execution_count": 74
  },
  {
   "metadata": {
    "ExecuteTime": {
     "end_time": "2025-05-07T13:16:00.622692Z",
     "start_time": "2025-05-07T13:16:00.617064Z"
    }
   },
   "cell_type": "code",
   "source": [
    "def logic_or(x1, x2):\n",
    "    x = np.array([x1, x2])\n",
    "    w = np.array([0.5, 0.5])\n",
    "    b = -0.1\n",
    "\n",
    "    if np.sum(w*x)+b <= 0:\n",
    "        return 0\n",
    "    else:\n",
    "        return 1"
   ],
   "id": "630209fc0593b480",
   "outputs": [],
   "execution_count": 75
  },
  {
   "metadata": {
    "ExecuteTime": {
     "end_time": "2025-05-07T13:16:00.642467Z",
     "start_time": "2025-05-07T13:16:00.635689Z"
    }
   },
   "cell_type": "code",
   "source": "logic_or(0, 0)",
   "id": "dbe1da205f910d22",
   "outputs": [
    {
     "data": {
      "text/plain": [
       "0"
      ]
     },
     "execution_count": 76,
     "metadata": {},
     "output_type": "execute_result"
    }
   ],
   "execution_count": 76
  },
  {
   "metadata": {
    "ExecuteTime": {
     "end_time": "2025-05-07T13:16:00.671561Z",
     "start_time": "2025-05-07T13:16:00.664259Z"
    }
   },
   "cell_type": "code",
   "source": "logic_or(1, 0)",
   "id": "94d4ec3bb9364212",
   "outputs": [
    {
     "data": {
      "text/plain": [
       "1"
      ]
     },
     "execution_count": 77,
     "metadata": {},
     "output_type": "execute_result"
    }
   ],
   "execution_count": 77
  },
  {
   "metadata": {
    "ExecuteTime": {
     "end_time": "2025-05-07T13:16:00.708255Z",
     "start_time": "2025-05-07T13:16:00.701146Z"
    }
   },
   "cell_type": "code",
   "source": "logic_or(0, 1)",
   "id": "f695a6d8fd9307a6",
   "outputs": [
    {
     "data": {
      "text/plain": [
       "1"
      ]
     },
     "execution_count": 78,
     "metadata": {},
     "output_type": "execute_result"
    }
   ],
   "execution_count": 78
  },
  {
   "metadata": {
    "ExecuteTime": {
     "end_time": "2025-05-07T13:16:00.737743Z",
     "start_time": "2025-05-07T13:16:00.728536Z"
    }
   },
   "cell_type": "code",
   "source": "logic_or(1, 1)",
   "id": "525af384b9b1d625",
   "outputs": [
    {
     "data": {
      "text/plain": [
       "1"
      ]
     },
     "execution_count": 79,
     "metadata": {},
     "output_type": "execute_result"
    }
   ],
   "execution_count": 79
  },
  {
   "metadata": {
    "ExecuteTime": {
     "end_time": "2025-05-07T13:16:00.759134Z",
     "start_time": "2025-05-07T13:16:00.753577Z"
    }
   },
   "cell_type": "code",
   "source": [
    "def logic_xor(x1, x2):\n",
    "    s1 = logic_nand(x1, x2)\n",
    "    s2 = logic_or(x1, x2)\n",
    "    return logic_and(s1, s2)"
   ],
   "id": "f6d27b0c057ffe55",
   "outputs": [],
   "execution_count": 80
  },
  {
   "metadata": {
    "ExecuteTime": {
     "end_time": "2025-05-07T13:16:00.809483Z",
     "start_time": "2025-05-07T13:16:00.799992Z"
    }
   },
   "cell_type": "code",
   "source": "logic_xor(0, 0)",
   "id": "40339d87b2e1f8e6",
   "outputs": [
    {
     "data": {
      "text/plain": [
       "0"
      ]
     },
     "execution_count": 81,
     "metadata": {},
     "output_type": "execute_result"
    }
   ],
   "execution_count": 81
  },
  {
   "metadata": {
    "ExecuteTime": {
     "end_time": "2025-05-07T13:16:00.841337Z",
     "start_time": "2025-05-07T13:16:00.831608Z"
    }
   },
   "cell_type": "code",
   "source": "logic_xor(1, 0)",
   "id": "20eb947d2ad00c9f",
   "outputs": [
    {
     "data": {
      "text/plain": [
       "1"
      ]
     },
     "execution_count": 82,
     "metadata": {},
     "output_type": "execute_result"
    }
   ],
   "execution_count": 82
  },
  {
   "metadata": {
    "ExecuteTime": {
     "end_time": "2025-05-07T13:16:00.898781Z",
     "start_time": "2025-05-07T13:16:00.887259Z"
    }
   },
   "cell_type": "code",
   "source": "logic_xor(0, 1)",
   "id": "73c3dd9d211daf62",
   "outputs": [
    {
     "data": {
      "text/plain": [
       "1"
      ]
     },
     "execution_count": 83,
     "metadata": {},
     "output_type": "execute_result"
    }
   ],
   "execution_count": 83
  },
  {
   "metadata": {
    "ExecuteTime": {
     "end_time": "2025-05-07T13:16:00.934636Z",
     "start_time": "2025-05-07T13:16:00.924223Z"
    }
   },
   "cell_type": "code",
   "source": "logic_xor(1, 1)",
   "id": "89efebbe78eabeb3",
   "outputs": [
    {
     "data": {
      "text/plain": [
       "0"
      ]
     },
     "execution_count": 84,
     "metadata": {},
     "output_type": "execute_result"
    }
   ],
   "execution_count": 84
  }
 ],
 "metadata": {
  "kernelspec": {
   "display_name": "Python 3",
   "language": "python",
   "name": "python3"
  },
  "language_info": {
   "codemirror_mode": {
    "name": "ipython",
    "version": 2
   },
   "file_extension": ".py",
   "mimetype": "text/x-python",
   "name": "python",
   "nbconvert_exporter": "python",
   "pygments_lexer": "ipython2",
   "version": "2.7.6"
  }
 },
 "nbformat": 4,
 "nbformat_minor": 5
}
