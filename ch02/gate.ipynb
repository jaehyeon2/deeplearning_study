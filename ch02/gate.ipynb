{
 "cells": [
  {
   "metadata": {
    "ExecuteTime": {
     "end_time": "2025-05-07T14:13:21.662068Z",
     "start_time": "2025-05-07T14:13:21.624769Z"
    }
   },
   "cell_type": "code",
   "source": [
    "import numpy as np\n",
    "\n",
    "def logic_and(x1, x2):\n",
    "    x = np.array([x1, x2])\n",
    "    w = np.array([0.5, 0.5])\n",
    "    b = -0.7\n",
    "\n",
    "    if np.sum(w*x)+b <= 0:\n",
    "        return 0\n",
    "    else:\n",
    "        return 1"
   ],
   "id": "3ba67acec6b971db",
   "outputs": [],
   "execution_count": 85
  },
  {
   "metadata": {
    "ExecuteTime": {
     "end_time": "2025-05-07T14:13:21.703296Z",
     "start_time": "2025-05-07T14:13:21.688129Z"
    }
   },
   "cell_type": "code",
   "source": "logic_and(0, 0)",
   "id": "bdb065a792862ac0",
   "outputs": [
    {
     "data": {
      "text/plain": [
       "0"
      ]
     },
     "execution_count": 86,
     "metadata": {},
     "output_type": "execute_result"
    }
   ],
   "execution_count": 86
  },
  {
   "metadata": {
    "ExecuteTime": {
     "end_time": "2025-05-07T14:13:21.816554Z",
     "start_time": "2025-05-07T14:13:21.797648Z"
    }
   },
   "cell_type": "code",
   "source": "logic_and(1, 0)",
   "id": "eb75dbc5fd48e636",
   "outputs": [
    {
     "data": {
      "text/plain": [
       "0"
      ]
     },
     "execution_count": 87,
     "metadata": {},
     "output_type": "execute_result"
    }
   ],
   "execution_count": 87
  },
  {
   "metadata": {
    "ExecuteTime": {
     "end_time": "2025-05-07T14:13:21.888329Z",
     "start_time": "2025-05-07T14:13:21.869566Z"
    }
   },
   "cell_type": "code",
   "source": "logic_and(0, 1)",
   "id": "e342b9f1fd1358f4",
   "outputs": [
    {
     "data": {
      "text/plain": [
       "0"
      ]
     },
     "execution_count": 88,
     "metadata": {},
     "output_type": "execute_result"
    }
   ],
   "execution_count": 88
  },
  {
   "metadata": {
    "ExecuteTime": {
     "end_time": "2025-05-07T14:13:22.009884Z",
     "start_time": "2025-05-07T14:13:22.001534Z"
    }
   },
   "cell_type": "code",
   "source": "logic_and(1, 1)",
   "id": "5858815bd614f4eb",
   "outputs": [
    {
     "data": {
      "text/plain": [
       "1"
      ]
     },
     "execution_count": 89,
     "metadata": {},
     "output_type": "execute_result"
    }
   ],
   "execution_count": 89
  },
  {
   "metadata": {
    "ExecuteTime": {
     "end_time": "2025-05-07T14:13:22.119876Z",
     "start_time": "2025-05-07T14:13:22.111379Z"
    }
   },
   "cell_type": "code",
   "source": [
    "def logic_nand(x1, x2):\n",
    "    x = np.array([x1, x2])\n",
    "    w = np.array([-0.5, -0.5])\n",
    "    b = 0.7\n",
    "\n",
    "    if np.sum(w*x)+b <= 0:\n",
    "        return 0\n",
    "    else:\n",
    "        return 1"
   ],
   "id": "b9052bb47e8e01a6",
   "outputs": [],
   "execution_count": 90
  },
  {
   "metadata": {
    "ExecuteTime": {
     "end_time": "2025-05-07T14:13:22.154022Z",
     "start_time": "2025-05-07T14:13:22.143069Z"
    }
   },
   "cell_type": "code",
   "source": "logic_nand(0, 0)",
   "id": "2347d3bf00ee1fa8",
   "outputs": [
    {
     "data": {
      "text/plain": [
       "1"
      ]
     },
     "execution_count": 91,
     "metadata": {},
     "output_type": "execute_result"
    }
   ],
   "execution_count": 91
  },
  {
   "metadata": {
    "ExecuteTime": {
     "end_time": "2025-05-07T14:13:22.199055Z",
     "start_time": "2025-05-07T14:13:22.186547Z"
    }
   },
   "cell_type": "code",
   "source": "logic_nand(1, 0)",
   "id": "23054fa69c1a8aad",
   "outputs": [
    {
     "data": {
      "text/plain": [
       "1"
      ]
     },
     "execution_count": 92,
     "metadata": {},
     "output_type": "execute_result"
    }
   ],
   "execution_count": 92
  },
  {
   "metadata": {
    "ExecuteTime": {
     "end_time": "2025-05-07T14:13:22.233187Z",
     "start_time": "2025-05-07T14:13:22.222807Z"
    }
   },
   "cell_type": "code",
   "source": "logic_nand(0, 1)",
   "id": "80c428cabb5d7a02",
   "outputs": [
    {
     "data": {
      "text/plain": [
       "1"
      ]
     },
     "execution_count": 93,
     "metadata": {},
     "output_type": "execute_result"
    }
   ],
   "execution_count": 93
  },
  {
   "metadata": {
    "ExecuteTime": {
     "end_time": "2025-05-07T14:13:22.262065Z",
     "start_time": "2025-05-07T14:13:22.250934Z"
    }
   },
   "cell_type": "code",
   "source": "logic_nand(1, 1)",
   "id": "6d5fd30fb1119b8d",
   "outputs": [
    {
     "data": {
      "text/plain": [
       "0"
      ]
     },
     "execution_count": 94,
     "metadata": {},
     "output_type": "execute_result"
    }
   ],
   "execution_count": 94
  },
  {
   "metadata": {
    "ExecuteTime": {
     "end_time": "2025-05-07T14:13:22.302418Z",
     "start_time": "2025-05-07T14:13:22.293055Z"
    }
   },
   "cell_type": "code",
   "source": [
    "def logic_or(x1, x2):\n",
    "    x = np.array([x1, x2])\n",
    "    w = np.array([0.5, 0.5])\n",
    "    b = -0.1\n",
    "\n",
    "    if np.sum(w*x)+b <= 0:\n",
    "        return 0\n",
    "    else:\n",
    "        return 1"
   ],
   "id": "630209fc0593b480",
   "outputs": [],
   "execution_count": 95
  },
  {
   "metadata": {
    "ExecuteTime": {
     "end_time": "2025-05-07T14:13:22.329504Z",
     "start_time": "2025-05-07T14:13:22.319285Z"
    }
   },
   "cell_type": "code",
   "source": "logic_or(0, 0)",
   "id": "dbe1da205f910d22",
   "outputs": [
    {
     "data": {
      "text/plain": [
       "0"
      ]
     },
     "execution_count": 96,
     "metadata": {},
     "output_type": "execute_result"
    }
   ],
   "execution_count": 96
  },
  {
   "metadata": {
    "ExecuteTime": {
     "end_time": "2025-05-07T14:13:22.355474Z",
     "start_time": "2025-05-07T14:13:22.345921Z"
    }
   },
   "cell_type": "code",
   "source": "logic_or(1, 0)",
   "id": "94d4ec3bb9364212",
   "outputs": [
    {
     "data": {
      "text/plain": [
       "1"
      ]
     },
     "execution_count": 97,
     "metadata": {},
     "output_type": "execute_result"
    }
   ],
   "execution_count": 97
  },
  {
   "metadata": {
    "ExecuteTime": {
     "end_time": "2025-05-07T14:13:22.390360Z",
     "start_time": "2025-05-07T14:13:22.380643Z"
    }
   },
   "cell_type": "code",
   "source": "logic_or(0, 1)",
   "id": "f695a6d8fd9307a6",
   "outputs": [
    {
     "data": {
      "text/plain": [
       "1"
      ]
     },
     "execution_count": 98,
     "metadata": {},
     "output_type": "execute_result"
    }
   ],
   "execution_count": 98
  },
  {
   "metadata": {
    "ExecuteTime": {
     "end_time": "2025-05-07T14:13:22.424630Z",
     "start_time": "2025-05-07T14:13:22.415455Z"
    }
   },
   "cell_type": "code",
   "source": "logic_or(1, 1)",
   "id": "525af384b9b1d625",
   "outputs": [
    {
     "data": {
      "text/plain": [
       "1"
      ]
     },
     "execution_count": 99,
     "metadata": {},
     "output_type": "execute_result"
    }
   ],
   "execution_count": 99
  },
  {
   "metadata": {
    "ExecuteTime": {
     "end_time": "2025-05-07T14:13:22.503357Z",
     "start_time": "2025-05-07T14:13:22.494057Z"
    }
   },
   "cell_type": "code",
   "source": [
    "def logic_xor(x1, x2):\n",
    "    s1 = logic_nand(x1, x2)\n",
    "    s2 = logic_or(x1, x2)\n",
    "    return logic_and(s1, s2)"
   ],
   "id": "f6d27b0c057ffe55",
   "outputs": [],
   "execution_count": 100
  },
  {
   "metadata": {
    "ExecuteTime": {
     "end_time": "2025-05-07T14:13:22.541189Z",
     "start_time": "2025-05-07T14:13:22.531260Z"
    }
   },
   "cell_type": "code",
   "source": "logic_xor(0, 0)",
   "id": "40339d87b2e1f8e6",
   "outputs": [
    {
     "data": {
      "text/plain": [
       "0"
      ]
     },
     "execution_count": 101,
     "metadata": {},
     "output_type": "execute_result"
    }
   ],
   "execution_count": 101
  },
  {
   "metadata": {
    "ExecuteTime": {
     "end_time": "2025-05-07T14:13:22.584834Z",
     "start_time": "2025-05-07T14:13:22.574526Z"
    }
   },
   "cell_type": "code",
   "source": "logic_xor(1, 0)",
   "id": "20eb947d2ad00c9f",
   "outputs": [
    {
     "data": {
      "text/plain": [
       "1"
      ]
     },
     "execution_count": 102,
     "metadata": {},
     "output_type": "execute_result"
    }
   ],
   "execution_count": 102
  },
  {
   "metadata": {
    "ExecuteTime": {
     "end_time": "2025-05-07T14:13:22.633010Z",
     "start_time": "2025-05-07T14:13:22.620660Z"
    }
   },
   "cell_type": "code",
   "source": "logic_xor(0, 1)",
   "id": "73c3dd9d211daf62",
   "outputs": [
    {
     "data": {
      "text/plain": [
       "1"
      ]
     },
     "execution_count": 103,
     "metadata": {},
     "output_type": "execute_result"
    }
   ],
   "execution_count": 103
  },
  {
   "metadata": {
    "ExecuteTime": {
     "end_time": "2025-05-07T14:13:22.666451Z",
     "start_time": "2025-05-07T14:13:22.656598Z"
    }
   },
   "cell_type": "code",
   "source": "logic_xor(1, 1)",
   "id": "89efebbe78eabeb3",
   "outputs": [
    {
     "data": {
      "text/plain": [
       "0"
      ]
     },
     "execution_count": 104,
     "metadata": {},
     "output_type": "execute_result"
    }
   ],
   "execution_count": 104
  }
 ],
 "metadata": {
  "kernelspec": {
   "display_name": "Python 3",
   "language": "python",
   "name": "python3"
  },
  "language_info": {
   "codemirror_mode": {
    "name": "ipython",
    "version": 2
   },
   "file_extension": ".py",
   "mimetype": "text/x-python",
   "name": "python",
   "nbconvert_exporter": "python",
   "pygments_lexer": "ipython2",
   "version": "2.7.6"
  }
 },
 "nbformat": 4,
 "nbformat_minor": 5
}
