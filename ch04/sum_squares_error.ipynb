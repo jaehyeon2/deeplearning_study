{
 "cells": [
  {
   "metadata": {
    "ExecuteTime": {
     "end_time": "2025-05-11T09:57:23.850148Z",
     "start_time": "2025-05-11T09:57:23.844047Z"
    }
   },
   "cell_type": "code",
   "source": "import numpy as np",
   "id": "77dd0c7eccb69021",
   "outputs": [],
   "execution_count": 6
  },
  {
   "metadata": {
    "ExecuteTime": {
     "end_time": "2025-05-11T09:57:23.871466Z",
     "start_time": "2025-05-11T09:57:23.853182Z"
    }
   },
   "cell_type": "code",
   "source": [
    "def sum_squares_error(y, t):\n",
    "    return 0.5 * np.sum((y-t) ** 2)"
   ],
   "id": "b2f78f2df3c25ead",
   "outputs": [],
   "execution_count": 7
  },
  {
   "metadata": {
    "ExecuteTime": {
     "end_time": "2025-05-11T09:57:23.889316Z",
     "start_time": "2025-05-11T09:57:23.882188Z"
    }
   },
   "cell_type": "code",
   "source": [
    "t = [0, 0, 1, 0, 0, 0, 0, 0, 0, 0]\n",
    "# answer is 2"
   ],
   "id": "cac544d9e9a9e838",
   "outputs": [],
   "execution_count": 8
  },
  {
   "metadata": {
    "ExecuteTime": {
     "end_time": "2025-05-11T09:57:23.916355Z",
     "start_time": "2025-05-11T09:57:23.900281Z"
    }
   },
   "cell_type": "code",
   "source": [
    "# case1: if the answer is expected to be 2\n",
    "y1 = [0.1, 0.05, 0.6, 0.0, 0.05, 0.1, 0.0, 0.1, 0.0, 0.0]\n",
    "result1 = sum_squares_error(np.array(y1), np.array(t))\n",
    "result1"
   ],
   "id": "eb24861e23661add",
   "outputs": [
    {
     "data": {
      "text/plain": [
       "np.float64(0.09750000000000003)"
      ]
     },
     "execution_count": 9,
     "metadata": {},
     "output_type": "execute_result"
    }
   ],
   "execution_count": 9
  },
  {
   "metadata": {
    "ExecuteTime": {
     "end_time": "2025-05-11T09:57:23.993138Z",
     "start_time": "2025-05-11T09:57:23.982293Z"
    }
   },
   "cell_type": "code",
   "source": [
    "# case2: if the answer is expected to be 7\n",
    "y2 = [0.1, 0.05, 0.1, 0.0, 0.05, 0.1, 0.0, 0.6, 0.0, 0.0]\n",
    "result2 = sum_squares_error(np.array(y2), np.array(t))\n",
    "result2"
   ],
   "id": "af31a788f4ea5248",
   "outputs": [
    {
     "data": {
      "text/plain": [
       "np.float64(0.5975)"
      ]
     },
     "execution_count": 10,
     "metadata": {},
     "output_type": "execute_result"
    }
   ],
   "execution_count": 10
  }
 ],
 "metadata": {},
 "nbformat": 4,
 "nbformat_minor": 5
}
