{
 "cells": [
  {
   "cell_type": "code",
   "id": "initial_id",
   "metadata": {
    "collapsed": true,
    "ExecuteTime": {
     "end_time": "2025-05-18T09:28:00.709937Z",
     "start_time": "2025-05-18T09:28:00.702963Z"
    }
   },
   "source": [
    "import sys, os\n",
    "import numpy as np\n",
    "from common.functions import softmax, cross_entropy_error\n",
    "from common.gradient import numerical_gradient"
   ],
   "outputs": [],
   "execution_count": 48
  },
  {
   "metadata": {
    "ExecuteTime": {
     "end_time": "2025-05-18T09:28:00.725059Z",
     "start_time": "2025-05-18T09:28:00.717895Z"
    }
   },
   "cell_type": "code",
   "source": [
    "class simpleNet:\n",
    "    def __init__(self):\n",
    "        self.W = np.random.randn(2, 3)\n",
    "\n",
    "    def predict(self, x):\n",
    "        return np.dot(x, self.W)\n",
    "\n",
    "    def loss(self, x, t):\n",
    "        z = self.predict(x)\n",
    "        y = softmax(z)\n",
    "        loss = cross_entropy_error(y, t)\n",
    "\n",
    "        return loss"
   ],
   "id": "1d5515705fcb8f98",
   "outputs": [],
   "execution_count": 49
  },
  {
   "metadata": {
    "ExecuteTime": {
     "end_time": "2025-05-18T09:28:00.741510Z",
     "start_time": "2025-05-18T09:28:00.734070Z"
    }
   },
   "cell_type": "code",
   "source": [
    "net = simpleNet()\n",
    "print(net.W)"
   ],
   "id": "d8bbb225f7d14a5e",
   "outputs": [
    {
     "name": "stdout",
     "output_type": "stream",
     "text": [
      "[[ 0.68748308 -0.73245125 -0.53247029]\n",
      " [-0.17173943 -1.03034707  0.66357426]]\n"
     ]
    }
   ],
   "execution_count": 50
  },
  {
   "metadata": {
    "ExecuteTime": {
     "end_time": "2025-05-18T09:28:00.769800Z",
     "start_time": "2025-05-18T09:28:00.761399Z"
    }
   },
   "cell_type": "code",
   "source": [
    "x = np.array([0.6, 0.9])\n",
    "p = net.predict(x)\n",
    "print(p)"
   ],
   "id": "574a07b8c8483f08",
   "outputs": [
    {
     "name": "stdout",
     "output_type": "stream",
     "text": [
      "[ 0.25792436 -1.36678311  0.27773466]\n"
     ]
    }
   ],
   "execution_count": 51
  },
  {
   "metadata": {
    "ExecuteTime": {
     "end_time": "2025-05-18T09:28:00.803340Z",
     "start_time": "2025-05-18T09:28:00.792330Z"
    }
   },
   "cell_type": "code",
   "source": "np.argmax(p)",
   "id": "b29c66451eab3024",
   "outputs": [
    {
     "data": {
      "text/plain": [
       "np.int64(2)"
      ]
     },
     "execution_count": 52,
     "metadata": {},
     "output_type": "execute_result"
    }
   ],
   "execution_count": 52
  },
  {
   "metadata": {
    "ExecuteTime": {
     "end_time": "2025-05-18T09:28:00.824334Z",
     "start_time": "2025-05-18T09:28:00.815080Z"
    }
   },
   "cell_type": "code",
   "source": [
    "t = np.array([0, 0, 1])\n",
    "net.loss(x, t)"
   ],
   "id": "db9e9a726a19b07b",
   "outputs": [
    {
     "data": {
      "text/plain": [
       "np.float64(0.776334086876777)"
      ]
     },
     "execution_count": 53,
     "metadata": {},
     "output_type": "execute_result"
    }
   ],
   "execution_count": 53
  },
  {
   "metadata": {
    "ExecuteTime": {
     "end_time": "2025-05-18T09:28:00.857602Z",
     "start_time": "2025-05-18T09:28:00.852410Z"
    }
   },
   "cell_type": "code",
   "source": [
    "def f(W):\n",
    "    return net.loss(x, t)"
   ],
   "id": "f8235af424605760",
   "outputs": [],
   "execution_count": 54
  },
  {
   "metadata": {
    "ExecuteTime": {
     "end_time": "2025-05-18T09:28:00.876293Z",
     "start_time": "2025-05-18T09:28:00.869083Z"
    }
   },
   "cell_type": "code",
   "source": [
    "dW = numerical_gradient(f, net.W)\n",
    "print(dW)"
   ],
   "id": "fce74a9dcdd727b2",
   "outputs": [
    {
     "name": "stdout",
     "output_type": "stream",
     "text": [
      "[[ 0.27063873  0.05330752 -0.32394625]\n",
      " [ 0.40595809  0.07996128 -0.48591937]]\n"
     ]
    }
   ],
   "execution_count": 55
  }
 ],
 "metadata": {
  "kernelspec": {
   "display_name": "Python 3",
   "language": "python",
   "name": "python3"
  },
  "language_info": {
   "codemirror_mode": {
    "name": "ipython",
    "version": 2
   },
   "file_extension": ".py",
   "mimetype": "text/x-python",
   "name": "python",
   "nbconvert_exporter": "python",
   "pygments_lexer": "ipython2",
   "version": "2.7.6"
  }
 },
 "nbformat": 4,
 "nbformat_minor": 5
}
