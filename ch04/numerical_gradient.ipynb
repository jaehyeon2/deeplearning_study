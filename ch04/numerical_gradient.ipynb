{
 "cells": [
  {
   "cell_type": "code",
   "id": "initial_id",
   "metadata": {
    "collapsed": true,
    "ExecuteTime": {
     "end_time": "2025-05-15T10:52:51.686210Z",
     "start_time": "2025-05-15T10:52:50.807275Z"
    }
   },
   "source": [
    "import numpy as np\n",
    "import matplotlib.pyplot as plt"
   ],
   "outputs": [],
   "execution_count": 1
  },
  {
   "metadata": {
    "ExecuteTime": {
     "end_time": "2025-05-15T10:52:51.720759Z",
     "start_time": "2025-05-15T10:52:51.708187Z"
    }
   },
   "cell_type": "code",
   "source": [
    "def function_2(x):\n",
    "    return x[0]**2 + x[1]**2"
   ],
   "id": "a97dfdce54b0f16a",
   "outputs": [],
   "execution_count": 2
  },
  {
   "metadata": {
    "ExecuteTime": {
     "end_time": "2025-05-15T10:52:51.748813Z",
     "start_time": "2025-05-15T10:52:51.738287Z"
    }
   },
   "cell_type": "code",
   "source": [
    "def numerical_gradient(f, x):\n",
    "    h = 1e-4\n",
    "    grad = np.zeros_like(x)\n",
    "\n",
    "    for idx in range(x.size):\n",
    "        tmp_val = x[idx]\n",
    "\n",
    "        # f(x+h)\n",
    "        x[idx] = tmp_val + h\n",
    "        fxh1 = f(x)\n",
    "\n",
    "        # f(x-h)\n",
    "        x[idx] = tmp_val - h\n",
    "        fxh2 = f(x)\n",
    "\n",
    "        grad[idx] = (fxh1 - fxh2) / (2 * h)\n",
    "        x[idx] = tmp_val\n",
    "\n",
    "    return grad"
   ],
   "id": "2487f0e81f28c258",
   "outputs": [],
   "execution_count": 3
  },
  {
   "metadata": {
    "ExecuteTime": {
     "end_time": "2025-05-15T10:52:51.778066Z",
     "start_time": "2025-05-15T10:52:51.766715Z"
    }
   },
   "cell_type": "code",
   "source": "numerical_gradient(function_2, np.array([3.0, 4.0]))",
   "id": "ea90971fa7f8e81b",
   "outputs": [
    {
     "data": {
      "text/plain": [
       "array([6., 8.])"
      ]
     },
     "execution_count": 4,
     "metadata": {},
     "output_type": "execute_result"
    }
   ],
   "execution_count": 4
  },
  {
   "metadata": {
    "ExecuteTime": {
     "end_time": "2025-05-15T10:52:51.883438Z",
     "start_time": "2025-05-15T10:52:51.872441Z"
    }
   },
   "cell_type": "code",
   "source": "numerical_gradient(function_2, np.array([0.0, 2.0]))",
   "id": "f2d5e69e65ba0d02",
   "outputs": [
    {
     "data": {
      "text/plain": [
       "array([0., 4.])"
      ]
     },
     "execution_count": 5,
     "metadata": {},
     "output_type": "execute_result"
    }
   ],
   "execution_count": 5
  },
  {
   "metadata": {
    "ExecuteTime": {
     "end_time": "2025-05-15T10:52:51.938912Z",
     "start_time": "2025-05-15T10:52:51.930972Z"
    }
   },
   "cell_type": "code",
   "source": [
    "\n",
    "numerical_gradient(function_2, np.array([3.0, 0.0]))"
   ],
   "id": "490a57218a01ce15",
   "outputs": [
    {
     "data": {
      "text/plain": [
       "array([6., 0.])"
      ]
     },
     "execution_count": 6,
     "metadata": {},
     "output_type": "execute_result"
    }
   ],
   "execution_count": 6
  }
 ],
 "metadata": {
  "kernelspec": {
   "display_name": "Python 3",
   "language": "python",
   "name": "python3"
  },
  "language_info": {
   "codemirror_mode": {
    "name": "ipython",
    "version": 2
   },
   "file_extension": ".py",
   "mimetype": "text/x-python",
   "name": "python",
   "nbconvert_exporter": "python",
   "pygments_lexer": "ipython2",
   "version": "2.7.6"
  }
 },
 "nbformat": 4,
 "nbformat_minor": 5
}
