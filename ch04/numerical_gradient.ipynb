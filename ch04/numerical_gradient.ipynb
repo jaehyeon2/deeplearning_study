{
 "cells": [
  {
   "cell_type": "code",
   "id": "initial_id",
   "metadata": {
    "collapsed": true,
    "ExecuteTime": {
     "end_time": "2025-05-13T12:42:22.240946Z",
     "start_time": "2025-05-13T12:42:22.233445Z"
    }
   },
   "source": [
    "import numpy as np\n",
    "import matplotlib.pyplot as plt"
   ],
   "outputs": [],
   "execution_count": 35
  },
  {
   "metadata": {
    "ExecuteTime": {
     "end_time": "2025-05-13T12:42:22.272622Z",
     "start_time": "2025-05-13T12:42:22.265351Z"
    }
   },
   "cell_type": "code",
   "source": [
    "def function_2(x):\n",
    "    return x[0]**2 + x[1]**2"
   ],
   "id": "a97dfdce54b0f16a",
   "outputs": [],
   "execution_count": 36
  },
  {
   "metadata": {
    "ExecuteTime": {
     "end_time": "2025-05-13T12:42:22.288648Z",
     "start_time": "2025-05-13T12:42:22.279882Z"
    }
   },
   "cell_type": "code",
   "source": [
    "def numerical_gradient(f, x):\n",
    "    h = 1e-4\n",
    "    grad = np.zeros_like(x)\n",
    "\n",
    "    for idx in range(x.size):\n",
    "        tmp_val = x[idx]\n",
    "\n",
    "        # f(x+h)\n",
    "        x[idx] = tmp_val + h\n",
    "        fxh1 = f(x)\n",
    "\n",
    "        # f(x-h)\n",
    "        x[idx] = tmp_val - h\n",
    "        fxh2 = f(x)\n",
    "\n",
    "        grad[idx] = (fxh1 - fxh2) / (2 * h)\n",
    "        x[idx] = tmp_val\n",
    "\n",
    "    return grad"
   ],
   "id": "2487f0e81f28c258",
   "outputs": [],
   "execution_count": 37
  },
  {
   "metadata": {
    "ExecuteTime": {
     "end_time": "2025-05-13T12:42:22.308238Z",
     "start_time": "2025-05-13T12:42:22.299029Z"
    }
   },
   "cell_type": "code",
   "source": "numerical_gradient(function_2, np.array([3.0, 4.0]))",
   "id": "ea90971fa7f8e81b",
   "outputs": [
    {
     "data": {
      "text/plain": [
       "array([6., 8.])"
      ]
     },
     "execution_count": 38,
     "metadata": {},
     "output_type": "execute_result"
    }
   ],
   "execution_count": 38
  },
  {
   "metadata": {
    "ExecuteTime": {
     "end_time": "2025-05-13T12:42:22.329260Z",
     "start_time": "2025-05-13T12:42:22.318282Z"
    }
   },
   "cell_type": "code",
   "source": "numerical_gradient(function_2, np.array([0.0, 2.0]))",
   "id": "f2d5e69e65ba0d02",
   "outputs": [
    {
     "data": {
      "text/plain": [
       "array([0., 4.])"
      ]
     },
     "execution_count": 39,
     "metadata": {},
     "output_type": "execute_result"
    }
   ],
   "execution_count": 39
  },
  {
   "metadata": {
    "ExecuteTime": {
     "end_time": "2025-05-13T12:42:22.353330Z",
     "start_time": "2025-05-13T12:42:22.346422Z"
    }
   },
   "cell_type": "code",
   "source": [
    "\n",
    "numerical_gradient(function_2, np.array([3.0, 0.0]))"
   ],
   "id": "490a57218a01ce15",
   "outputs": [
    {
     "data": {
      "text/plain": [
       "array([6., 0.])"
      ]
     },
     "execution_count": 40,
     "metadata": {},
     "output_type": "execute_result"
    }
   ],
   "execution_count": 40
  }
 ],
 "metadata": {
  "kernelspec": {
   "display_name": "Python 3",
   "language": "python",
   "name": "python3"
  },
  "language_info": {
   "codemirror_mode": {
    "name": "ipython",
    "version": 2
   },
   "file_extension": ".py",
   "mimetype": "text/x-python",
   "name": "python",
   "nbconvert_exporter": "python",
   "pygments_lexer": "ipython2",
   "version": "2.7.6"
  }
 },
 "nbformat": 4,
 "nbformat_minor": 5
}
