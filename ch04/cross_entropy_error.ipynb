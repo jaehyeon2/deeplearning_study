{
 "cells": [
  {
   "metadata": {
    "ExecuteTime": {
     "end_time": "2025-05-11T10:07:53.488354Z",
     "start_time": "2025-05-11T10:07:53.478962Z"
    }
   },
   "cell_type": "code",
   "source": "import numpy as np",
   "id": "77dd0c7eccb69021",
   "outputs": [],
   "execution_count": 76
  },
  {
   "metadata": {
    "ExecuteTime": {
     "end_time": "2025-05-11T10:07:53.509886Z",
     "start_time": "2025-05-11T10:07:53.500536Z"
    }
   },
   "cell_type": "code",
   "source": [
    "# If value == 0 -> result became minus infinite value\n",
    "# Add minimum value 1e-7\n",
    "def cross_entropy_error(y, t):\n",
    "    delta = 1e-7\n",
    "    return -np.sum(t * np.log(y + delta))"
   ],
   "id": "b2f78f2df3c25ead",
   "outputs": [],
   "execution_count": 77
  },
  {
   "metadata": {
    "ExecuteTime": {
     "end_time": "2025-05-11T10:07:53.521843Z",
     "start_time": "2025-05-11T10:07:53.509886Z"
    }
   },
   "cell_type": "code",
   "source": [
    "t = [0, 0, 1, 0, 0, 0, 0, 0, 0, 0]\n",
    "# answer is 2"
   ],
   "id": "cac544d9e9a9e838",
   "outputs": [],
   "execution_count": 78
  },
  {
   "metadata": {
    "ExecuteTime": {
     "end_time": "2025-05-11T10:07:53.538147Z",
     "start_time": "2025-05-11T10:07:53.525871Z"
    }
   },
   "cell_type": "code",
   "source": [
    "# case1: if the answer is expected to be 2\n",
    "y1 = [0.1, 0.05, 0.6, 0.0, 0.05, 0.1, 0.0, 0.1, 0.0, 0.0]\n",
    "result1 = cross_entropy_error(np.array(y1), np.array(t))\n",
    "result1"
   ],
   "id": "eb24861e23661add",
   "outputs": [
    {
     "data": {
      "text/plain": [
       "np.float64(0.510825457099338)"
      ]
     },
     "execution_count": 79,
     "metadata": {},
     "output_type": "execute_result"
    }
   ],
   "execution_count": 79
  },
  {
   "metadata": {
    "ExecuteTime": {
     "end_time": "2025-05-11T10:07:53.556067Z",
     "start_time": "2025-05-11T10:07:53.547760Z"
    }
   },
   "cell_type": "code",
   "source": [
    "# case2: if the answer is expected to be 7\n",
    "y2 = [0.1, 0.05, 0.1, 0.0, 0.05, 0.1, 0.0, 0.6, 0.0, 0.0]\n",
    "result2 = cross_entropy_error(np.array(y2), np.array(t))\n",
    "result2"
   ],
   "id": "af31a788f4ea5248",
   "outputs": [
    {
     "data": {
      "text/plain": [
       "np.float64(2.302584092994546)"
      ]
     },
     "execution_count": 80,
     "metadata": {},
     "output_type": "execute_result"
    }
   ],
   "execution_count": 80
  }
 ],
 "metadata": {},
 "nbformat": 4,
 "nbformat_minor": 5
}
